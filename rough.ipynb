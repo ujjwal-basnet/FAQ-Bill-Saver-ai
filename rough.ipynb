{
 "cells": [
  {
   "cell_type": "code",
   "execution_count": 1,
   "id": "bfac2a83",
   "metadata": {},
   "outputs": [
    {
     "name": "stderr",
     "output_type": "stream",
     "text": [
      "/home/ujjwal/Desktop/FAQ-Bill-Saver-ai/.venv/lib/python3.12/site-packages/tqdm/auto.py:21: TqdmWarning: IProgress not found. Please update jupyter and ipywidgets. See https://ipywidgets.readthedocs.io/en/stable/user_install.html\n",
      "  from .autonotebook import tqdm as notebook_tqdm\n"
     ]
    }
   ],
   "source": [
    "import json\n",
    "import numpy as np\n",
    "import os\n",
    "from sentence_transformers import SentenceTransformer\n",
    "from google import genai\n",
    "import time\n",
    "from typing import Dict, List, Tuple, Optional\n",
    "from dataclasses import dataclass, asdict\n",
    "from datetime import datetime\n",
    "import hashlib"
   ]
  },
  {
   "cell_type": "code",
   "execution_count": 4,
   "id": "fcb9bc55",
   "metadata": {},
   "outputs": [],
   "source": [
    "import pandas as pd "
   ]
  },
  {
   "cell_type": "code",
   "execution_count": 40,
   "id": "37e0f563",
   "metadata": {},
   "outputs": [],
   "source": [
    "import pandas as pd \n",
    "data= pd.read_json('Amazon_sagemaker_Faq.json')"
   ]
  },
  {
   "cell_type": "code",
   "execution_count": 49,
   "id": "bcd53081",
   "metadata": {},
   "outputs": [],
   "source": [
    "data.drop(\"found_duplicate\", axis= 1, inplace= True )"
   ]
  },
  {
   "cell_type": "code",
   "execution_count": 50,
   "id": "55d03eb2",
   "metadata": {},
   "outputs": [
    {
     "data": {
      "text/plain": [
       "['What is Amazon SageMaker?',\n",
       " 'In which regions is Amazon SageMaker available?',\n",
       " 'What is the service availability of Amazon SageMaker?',\n",
       " 'What security measures does Amazon SageMaker have?',\n",
       " 'How does Amazon SageMaker secure my code?',\n",
       " 'How am I charged for Amazon SageMaker?',\n",
       " 'What if I have my own notebook, training, or hosting environment?',\n",
       " 'Is R supported with Amazon SageMaker?',\n",
       " 'What is Amazon SageMaker Studio?',\n",
       " 'What is Amazon SageMaker Autopilot?',\n",
       " 'How is Amazon SageMaker Autopilot different from vertical AI services like Amazon Personalize and Amazon Forecast?',\n",
       " 'What built-in algorithms are supported in Amazon SageMaker Autopilot?',\n",
       " 'Does Amazon SageMaker Autopilot support distributed training?',\n",
       " 'Can I stop an Amazon SageMaker Autopilot job manually?',\n",
       " 'What are Amazon SageMaker Studio Notebooks?',\n",
       " 'How are SageMaker Studio Notebooks different from the instance based notebooks offering?',\n",
       " 'What types of notebooks are supported?',\n",
       " 'How do Amazon SageMaker Studio Notebooks work?',\n",
       " 'How do Amazon SageMaker Studio Notebooks work with other AWS services?',\n",
       " 'What is Amazon SageMaker Ground Truth?',\n",
       " 'What is Amazon SageMaker Experiments?',\n",
       " 'What is Amazon SageMaker Debugger?',\n",
       " 'What is Managed Spot Training?',\n",
       " 'How do I use Managed Spot Training?',\n",
       " 'When should I use Managed Spot Training?',\n",
       " 'How does Managed Spot Training work?',\n",
       " 'Do I need to periodically checkpoint with Managed Spot Training?',\n",
       " 'How do you calculate the cost savings with Managed Spot Training jobs?',\n",
       " 'Which instances can I use with Managed Spot Training?',\n",
       " 'Which AWS regions are supported with Managed Spot Training?',\n",
       " 'Are there limits to the size of the dataset I can use for training?',\n",
       " 'What data sources can I easily pull into Amazon SageMaker?',\n",
       " 'What algorithms does Amazon SageMaker use to generate models?',\n",
       " 'What is Automatic Model Tuning?',\n",
       " 'What models can be tuned with Automatic Model Tuning?',\n",
       " 'Can I use Automatic Model Tuning outside of Amazon SageMaker?',\n",
       " 'What is the underlying tuning algorithm?',\n",
       " 'Will you recommend specific hyperparameters for tuning?',\n",
       " 'How long does a hyperparameter tuning job take?',\n",
       " 'Can I optimize multiple objectives simultaneously like a model to be both fast and accurate?',\n",
       " 'How much does Automatic Model Tuning cost?',\n",
       " 'How do I decide to use Amazon SageMaker Autopilot or Automatic Model Tuning?',\n",
       " 'What is reinforcement learning?',\n",
       " 'Can I train reinforcement learning models in Amazon SageMaker?',\n",
       " 'How is reinforcement learning different from supervised learning?',\n",
       " 'When should I use reinforcement learning?',\n",
       " 'What type of environments can I use for training reinforcement learning models?',\n",
       " 'Do I need to write my own RL agent algorithms to train reinforcement learning models?',\n",
       " 'Can I bring my own RL libraries and algorithm implementation and run in Amazon SageMaker RL?',\n",
       " 'Can I do distributed rollouts using Amazon SageMaker RL?',\n",
       " 'What is Amazon SageMaker Model Monitor?',\n",
       " 'Can I access the infrastructure that Amazon SageMaker runs on?',\n",
       " 'How do I scale the size and performance of an Amazon SageMaker model once in production?',\n",
       " 'How do I monitor my Amazon SageMaker production environment?',\n",
       " 'What kinds of models can be hosted with Amazon SageMaker?',\n",
       " 'How many concurrent real-time API requests does Amazon SageMaker support?',\n",
       " 'What is Batch Transform?',\n",
       " 'What is Amazon SageMaker Neo?',\n",
       " 'How do I get started with Amazon SageMaker Neo?',\n",
       " 'What are the major components of Amazon SageMaker Neo?',\n",
       " 'Do I need to use Amazon SageMaker to train my model in order to use Amazon SageMaker Neo to convert the model?',\n",
       " 'Which models does Amazon SageMaker Neo support?',\n",
       " 'Which platforms does Amazon SageMaker Neo support?',\n",
       " 'Do I need to use a specific version of a framework that is supported on the target hardware?',\n",
       " 'How much does it cost to use Amazon SageMaker Neo?',\n",
       " 'In which AWS regions is Amazon SageMaker Neo available?',\n",
       " 'Have more questions?']"
      ]
     },
     "execution_count": 50,
     "metadata": {},
     "output_type": "execute_result"
    }
   ],
   "source": [
    "question_only= data['question'].tolist()\n",
    "question_only "
   ]
  },
  {
   "cell_type": "code",
   "execution_count": null,
   "id": "ab38f6dd",
   "metadata": {},
   "outputs": [],
   "source": [
    "## store and convert into embeddings "
   ]
  },
  {
   "cell_type": "code",
   "execution_count": 51,
   "id": "c0cf0120",
   "metadata": {},
   "outputs": [],
   "source": [
    "import chromadb"
   ]
  },
  {
   "cell_type": "code",
   "execution_count": 52,
   "id": "ec87385e",
   "metadata": {},
   "outputs": [],
   "source": [
    "chromadb_client= chromadb.Client() "
   ]
  },
  {
   "cell_type": "code",
   "execution_count": null,
   "id": "6cb0bcb1",
   "metadata": {},
   "outputs": [],
   "source": [
    "## collection  (to store embeddings ,documents and any addition metadata)\n",
    "collection= chromadb_client.create_collection(name=\"faq-collection\")"
   ]
  },
  {
   "cell_type": "code",
   "execution_count": 56,
   "id": "cb2c073f",
   "metadata": {},
   "outputs": [
    {
     "name": "stderr",
     "output_type": "stream",
     "text": [
      "/home/ujjwal/.cache/chroma/onnx_models/all-MiniLM-L6-v2/onnx.tar.gz: 100%|██████████| 79.3M/79.3M [02:53<00:00, 479kiB/s] \n"
     ]
    }
   ],
   "source": [
    "## ADD SOME TEXT DOCS TO THE COLLECTION    \n",
    "collection.add(\n",
    "    documents= question_only,\n",
    "    metadatas=[{\"source\": \"Amazon_sagemaker_Faq.json\"}]* len(question_only),\n",
    "    ids= [str(i) for i in range(len(question_only))]\n",
    ")"
   ]
  },
  {
   "cell_type": "code",
   "execution_count": null,
   "id": "ea790220",
   "metadata": {},
   "outputs": [],
   "source": [
    "results = collection.query(\n",
    "    query_texts=[\"\"], # Chroma will embed this for you\n",
    "    n_results=2 # how many results to return\n",
    ")\n",
    "print(results)"
   ]
  },
  {
   "cell_type": "code",
   "execution_count": 57,
   "id": "53fd1ec7",
   "metadata": {},
   "outputs": [
    {
     "name": "stdout",
     "output_type": "stream",
     "text": [
      "{'ids': [['21', '8']], 'embeddings': None, 'documents': [['What is Amazon SageMaker Debugger?', 'What is Amazon SageMaker Studio?']], 'uris': None, 'included': ['metadatas', 'documents', 'distances'], 'data': None, 'metadatas': [[{'source': 'Amazon_sagemaker_Faq.json'}, {'source': 'Amazon_sagemaker_Faq.json'}]], 'distances': [[0.3958233594894409, 0.7899512052536011]]}\n"
     ]
    }
   ],
   "source": [
    "results = collection.query(\n",
    "    query_texts=[\"SageMaker Debugger\"], # Chroma will embed this for you\n",
    "    n_results=2 # how many results to return\n",
    ")\n",
    "print(results)"
   ]
  },
  {
   "cell_type": "code",
   "execution_count": 58,
   "id": "d4bb0949",
   "metadata": {},
   "outputs": [
    {
     "data": {
      "text/plain": [
       "{'ids': [['21', '8']],\n",
       " 'embeddings': None,\n",
       " 'documents': [['What is Amazon SageMaker Debugger?',\n",
       "   'What is Amazon SageMaker Studio?']],\n",
       " 'uris': None,\n",
       " 'included': ['metadatas', 'documents', 'distances'],\n",
       " 'data': None,\n",
       " 'metadatas': [[{'source': 'Amazon_sagemaker_Faq.json'},\n",
       "   {'source': 'Amazon_sagemaker_Faq.json'}]],\n",
       " 'distances': [[0.3958233594894409, 0.7899512052536011]]}"
      ]
     },
     "execution_count": 58,
     "metadata": {},
     "output_type": "execute_result"
    }
   ],
   "source": [
    "results"
   ]
  },
  {
   "cell_type": "code",
   "execution_count": null,
   "id": "994aa351",
   "metadata": {},
   "outputs": [],
   "source": []
  }
 ],
 "metadata": {
  "kernelspec": {
   "display_name": "FAQ-Bill-Saver-ai",
   "language": "python",
   "name": "python3"
  },
  "language_info": {
   "codemirror_mode": {
    "name": "ipython",
    "version": 3
   },
   "file_extension": ".py",
   "mimetype": "text/x-python",
   "name": "python",
   "nbconvert_exporter": "python",
   "pygments_lexer": "ipython3",
   "version": "3.12.3"
  }
 },
 "nbformat": 4,
 "nbformat_minor": 5
}
